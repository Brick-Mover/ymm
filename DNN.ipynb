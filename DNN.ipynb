{
 "cells": [
  {
   "cell_type": "code",
   "execution_count": 1,
   "metadata": {},
   "outputs": [
    {
     "name": "stdout",
     "output_type": "stream",
     "text": [
      "X.shape:  (1269117, 38)\n",
      "y.shape:  (1269117,)\n",
      "All:  0: 0.937196; 1: 0.062804 ; 2: 0.000000\n"
     ]
    }
   ],
   "source": [
    "import pandas as pd\n",
    "import numpy as np\n",
    "import os\n",
    "import sys\n",
    "\n",
    "_data_dir = 'data'\n",
    "_preprocess_dir = 'data\\\\preprocess'\n",
    "_predict_dir = 'data\\\\predict'\n",
    "\n",
    "pd.set_option('display.max_rows', 500)\n",
    "pd.set_option('display.max_columns', 500)\n",
    "pd.set_option('display.width', 1000)\n",
    "\n",
    "train_df = pd.read_csv(os.path.join(_preprocess_dir, 'train_features.csv'))\n",
    "\n",
    "train_df.label = train_df.label.map({2: 1, 1: 1, 0: 0})\n",
    "\n",
    "X = train_df.drop('label', axis=1)\n",
    "y = train_df.label\n",
    "\n",
    "print('X.shape: ', X.shape)\n",
    "print('y.shape: ', y.shape)\n",
    "\n",
    "zero_count = y.tolist().count(0)\n",
    "one_count = y.tolist().count(1)\n",
    "two_count = y.tolist().count(2)\n",
    "print('All:  0: %f; 1: %f ; 2: %f' % (zero_count * 1.0 / len(y), one_count * 1.0 / len(y), two_count * 1.0 / len(y)))"
   ]
  },
  {
   "cell_type": "code",
   "execution_count": 2,
   "metadata": {},
   "outputs": [
    {
     "name": "stderr",
     "output_type": "stream",
     "text": [
      "C:\\Users\\IfyourRtheone\\Anaconda3\\lib\\site-packages\\h5py\\__init__.py:36: FutureWarning: Conversion of the second argument of issubdtype from `float` to `np.floating` is deprecated. In future, it will be treated as `np.float64 == np.dtype(float).type`.\n",
      "  from ._conv import register_converters as _register_converters\n",
      "Using TensorFlow backend.\n"
     ]
    }
   ],
   "source": [
    "# DNN\n",
    "MODEL_PATH=\"model\"\n",
    "\n",
    "from keras.layers import Input, BatchNormalization, concatenate, Flatten, Dropout, Dense,ReLU\n",
    "from keras.layers.advanced_activations import LeakyReLU\n",
    "from keras.models import Model, load_model\n",
    "from keras.optimizers import Adam\n",
    "from keras.utils.np_utils import to_categorical\n",
    "from keras.callbacks import ModelCheckpoint, TensorBoard"
   ]
  },
  {
   "cell_type": "code",
   "execution_count": 3,
   "metadata": {},
   "outputs": [
    {
     "name": "stdout",
     "output_type": "stream",
     "text": [
      "(1269117,)\n",
      "(1269117, 38)\n"
     ]
    },
    {
     "data": {
      "text/html": [
       "<div>\n",
       "<style scoped>\n",
       "    .dataframe tbody tr th:only-of-type {\n",
       "        vertical-align: middle;\n",
       "    }\n",
       "\n",
       "    .dataframe tbody tr th {\n",
       "        vertical-align: top;\n",
       "    }\n",
       "\n",
       "    .dataframe thead th {\n",
       "        text-align: right;\n",
       "    }\n",
       "</style>\n",
       "<table border=\"1\" class=\"dataframe\">\n",
       "  <thead>\n",
       "    <tr style=\"text-align: right;\">\n",
       "      <th></th>\n",
       "      <th>user_id</th>\n",
       "      <th>id</th>\n",
       "      <th>gender</th>\n",
       "      <th>install_city_match</th>\n",
       "      <th>cargo_type</th>\n",
       "      <th>handling_type</th>\n",
       "      <th>truck_count</th>\n",
       "      <th>highway</th>\n",
       "      <th>lcl_cargo</th>\n",
       "      <th>truck_type_cargo_match_first</th>\n",
       "      <th>truck_type_cargo_match_second</th>\n",
       "      <th>truck_type_cargo_match_third</th>\n",
       "      <th>truck_type_cargo_match_fourth</th>\n",
       "      <th>truck_type_driver_match_first</th>\n",
       "      <th>truck_len_match</th>\n",
       "      <th>regular_subscribe_match</th>\n",
       "      <th>regular_search_3_match</th>\n",
       "      <th>regular_search_7_match</th>\n",
       "      <th>regular_search_14_match</th>\n",
       "      <th>regular_search_30_match</th>\n",
       "      <th>line_match</th>\n",
       "      <th>line_30days_match</th>\n",
       "      <th>line_60days_match</th>\n",
       "      <th>scan_cargo_level_3</th>\n",
       "      <th>scan_cargo_level_7</th>\n",
       "      <th>scan_cargo_level_14</th>\n",
       "      <th>scan_cargo_level_30</th>\n",
       "      <th>scan_cargo_level_avg</th>\n",
       "      <th>click_cargo_level_3</th>\n",
       "      <th>click_cargo_level_7</th>\n",
       "      <th>click_cargo_level_14</th>\n",
       "      <th>click_cargo_level_30</th>\n",
       "      <th>click_cargo_level_avg</th>\n",
       "      <th>call_cargo_level_3</th>\n",
       "      <th>call_cargo_level_7</th>\n",
       "      <th>call_cargo_level_14</th>\n",
       "      <th>call_cargo_level_30</th>\n",
       "      <th>call_cargo_level_avg</th>\n",
       "    </tr>\n",
       "  </thead>\n",
       "  <tbody>\n",
       "    <tr>\n",
       "      <th>0</th>\n",
       "      <td>15090280313811400</td>\n",
       "      <td>390939613</td>\n",
       "      <td>1</td>\n",
       "      <td>False</td>\n",
       "      <td>-1.0</td>\n",
       "      <td>0.0</td>\n",
       "      <td>1.0</td>\n",
       "      <td>0.0</td>\n",
       "      <td>0.0</td>\n",
       "      <td>False</td>\n",
       "      <td>True</td>\n",
       "      <td>False</td>\n",
       "      <td>False</td>\n",
       "      <td>False</td>\n",
       "      <td>True</td>\n",
       "      <td>True</td>\n",
       "      <td>False</td>\n",
       "      <td>False</td>\n",
       "      <td>False</td>\n",
       "      <td>False</td>\n",
       "      <td>False</td>\n",
       "      <td>False</td>\n",
       "      <td>False</td>\n",
       "      <td>0</td>\n",
       "      <td>1</td>\n",
       "      <td>1</td>\n",
       "      <td>1</td>\n",
       "      <td>168</td>\n",
       "      <td>0</td>\n",
       "      <td>2</td>\n",
       "      <td>2</td>\n",
       "      <td>2</td>\n",
       "      <td>16</td>\n",
       "      <td>1</td>\n",
       "      <td>2</td>\n",
       "      <td>2</td>\n",
       "      <td>2</td>\n",
       "      <td>3</td>\n",
       "    </tr>\n",
       "    <tr>\n",
       "      <th>1</th>\n",
       "      <td>15090280313811400</td>\n",
       "      <td>390994195</td>\n",
       "      <td>1</td>\n",
       "      <td>False</td>\n",
       "      <td>0.0</td>\n",
       "      <td>0.0</td>\n",
       "      <td>3.0</td>\n",
       "      <td>0.0</td>\n",
       "      <td>0.0</td>\n",
       "      <td>False</td>\n",
       "      <td>False</td>\n",
       "      <td>True</td>\n",
       "      <td>False</td>\n",
       "      <td>False</td>\n",
       "      <td>True</td>\n",
       "      <td>True</td>\n",
       "      <td>False</td>\n",
       "      <td>False</td>\n",
       "      <td>False</td>\n",
       "      <td>False</td>\n",
       "      <td>True</td>\n",
       "      <td>True</td>\n",
       "      <td>True</td>\n",
       "      <td>0</td>\n",
       "      <td>1</td>\n",
       "      <td>1</td>\n",
       "      <td>1</td>\n",
       "      <td>168</td>\n",
       "      <td>0</td>\n",
       "      <td>2</td>\n",
       "      <td>2</td>\n",
       "      <td>2</td>\n",
       "      <td>16</td>\n",
       "      <td>1</td>\n",
       "      <td>2</td>\n",
       "      <td>2</td>\n",
       "      <td>2</td>\n",
       "      <td>3</td>\n",
       "    </tr>\n",
       "    <tr>\n",
       "      <th>2</th>\n",
       "      <td>15090280313811400</td>\n",
       "      <td>391142389</td>\n",
       "      <td>1</td>\n",
       "      <td>False</td>\n",
       "      <td>-1.0</td>\n",
       "      <td>0.0</td>\n",
       "      <td>1.0</td>\n",
       "      <td>0.0</td>\n",
       "      <td>0.0</td>\n",
       "      <td>False</td>\n",
       "      <td>True</td>\n",
       "      <td>False</td>\n",
       "      <td>False</td>\n",
       "      <td>False</td>\n",
       "      <td>True</td>\n",
       "      <td>True</td>\n",
       "      <td>False</td>\n",
       "      <td>False</td>\n",
       "      <td>False</td>\n",
       "      <td>False</td>\n",
       "      <td>False</td>\n",
       "      <td>False</td>\n",
       "      <td>False</td>\n",
       "      <td>0</td>\n",
       "      <td>1</td>\n",
       "      <td>1</td>\n",
       "      <td>1</td>\n",
       "      <td>168</td>\n",
       "      <td>0</td>\n",
       "      <td>2</td>\n",
       "      <td>2</td>\n",
       "      <td>2</td>\n",
       "      <td>16</td>\n",
       "      <td>1</td>\n",
       "      <td>2</td>\n",
       "      <td>2</td>\n",
       "      <td>2</td>\n",
       "      <td>3</td>\n",
       "    </tr>\n",
       "    <tr>\n",
       "      <th>3</th>\n",
       "      <td>15090280313811400</td>\n",
       "      <td>391165453</td>\n",
       "      <td>1</td>\n",
       "      <td>False</td>\n",
       "      <td>1.0</td>\n",
       "      <td>1.0</td>\n",
       "      <td>7.0</td>\n",
       "      <td>0.0</td>\n",
       "      <td>1.0</td>\n",
       "      <td>False</td>\n",
       "      <td>False</td>\n",
       "      <td>False</td>\n",
       "      <td>False</td>\n",
       "      <td>False</td>\n",
       "      <td>True</td>\n",
       "      <td>True</td>\n",
       "      <td>False</td>\n",
       "      <td>False</td>\n",
       "      <td>False</td>\n",
       "      <td>False</td>\n",
       "      <td>False</td>\n",
       "      <td>False</td>\n",
       "      <td>False</td>\n",
       "      <td>0</td>\n",
       "      <td>1</td>\n",
       "      <td>1</td>\n",
       "      <td>1</td>\n",
       "      <td>168</td>\n",
       "      <td>0</td>\n",
       "      <td>2</td>\n",
       "      <td>2</td>\n",
       "      <td>2</td>\n",
       "      <td>16</td>\n",
       "      <td>1</td>\n",
       "      <td>2</td>\n",
       "      <td>2</td>\n",
       "      <td>2</td>\n",
       "      <td>3</td>\n",
       "    </tr>\n",
       "    <tr>\n",
       "      <th>4</th>\n",
       "      <td>15090280313811400</td>\n",
       "      <td>391193650</td>\n",
       "      <td>1</td>\n",
       "      <td>False</td>\n",
       "      <td>-1.0</td>\n",
       "      <td>0.0</td>\n",
       "      <td>1.0</td>\n",
       "      <td>0.0</td>\n",
       "      <td>0.0</td>\n",
       "      <td>False</td>\n",
       "      <td>False</td>\n",
       "      <td>False</td>\n",
       "      <td>False</td>\n",
       "      <td>False</td>\n",
       "      <td>True</td>\n",
       "      <td>True</td>\n",
       "      <td>False</td>\n",
       "      <td>False</td>\n",
       "      <td>False</td>\n",
       "      <td>False</td>\n",
       "      <td>True</td>\n",
       "      <td>True</td>\n",
       "      <td>True</td>\n",
       "      <td>0</td>\n",
       "      <td>1</td>\n",
       "      <td>1</td>\n",
       "      <td>1</td>\n",
       "      <td>168</td>\n",
       "      <td>0</td>\n",
       "      <td>2</td>\n",
       "      <td>2</td>\n",
       "      <td>2</td>\n",
       "      <td>16</td>\n",
       "      <td>1</td>\n",
       "      <td>2</td>\n",
       "      <td>2</td>\n",
       "      <td>2</td>\n",
       "      <td>3</td>\n",
       "    </tr>\n",
       "  </tbody>\n",
       "</table>\n",
       "</div>"
      ],
      "text/plain": [
       "             user_id         id  gender  install_city_match  cargo_type  handling_type  truck_count  highway  lcl_cargo  truck_type_cargo_match_first  truck_type_cargo_match_second  truck_type_cargo_match_third  truck_type_cargo_match_fourth  truck_type_driver_match_first  truck_len_match  regular_subscribe_match  regular_search_3_match  regular_search_7_match  regular_search_14_match  regular_search_30_match  line_match  line_30days_match  line_60days_match  scan_cargo_level_3  scan_cargo_level_7  scan_cargo_level_14  scan_cargo_level_30  scan_cargo_level_avg  click_cargo_level_3  click_cargo_level_7  click_cargo_level_14  click_cargo_level_30  click_cargo_level_avg  call_cargo_level_3  call_cargo_level_7  call_cargo_level_14  call_cargo_level_30  call_cargo_level_avg\n",
       "0  15090280313811400  390939613       1               False        -1.0            0.0          1.0      0.0        0.0                         False                           True                         False                          False                          False             True                     True                   False                   False                    False                    False       False              False              False                   0                   1                    1                    1                   168                    0                    2                     2                     2                     16                   1                   2                    2                    2                     3\n",
       "1  15090280313811400  390994195       1               False         0.0            0.0          3.0      0.0        0.0                         False                          False                          True                          False                          False             True                     True                   False                   False                    False                    False        True               True               True                   0                   1                    1                    1                   168                    0                    2                     2                     2                     16                   1                   2                    2                    2                     3\n",
       "2  15090280313811400  391142389       1               False        -1.0            0.0          1.0      0.0        0.0                         False                           True                         False                          False                          False             True                     True                   False                   False                    False                    False       False              False              False                   0                   1                    1                    1                   168                    0                    2                     2                     2                     16                   1                   2                    2                    2                     3\n",
       "3  15090280313811400  391165453       1               False         1.0            1.0          7.0      0.0        1.0                         False                          False                         False                          False                          False             True                     True                   False                   False                    False                    False       False              False              False                   0                   1                    1                    1                   168                    0                    2                     2                     2                     16                   1                   2                    2                    2                     3\n",
       "4  15090280313811400  391193650       1               False        -1.0            0.0          1.0      0.0        0.0                         False                          False                         False                          False                          False             True                     True                   False                   False                    False                    False        True               True               True                   0                   1                    1                    1                   168                    0                    2                     2                     2                     16                   1                   2                    2                    2                     3"
      ]
     },
     "execution_count": 3,
     "metadata": {},
     "output_type": "execute_result"
    }
   ],
   "source": [
    "print(y.shape)\n",
    "print(X.shape)\n",
    "X.head()"
   ]
  },
  {
   "cell_type": "code",
   "execution_count": 4,
   "metadata": {},
   "outputs": [
    {
     "data": {
      "text/plain": [
       "Index(['user_id', 'id', 'gender', 'install_city_match', 'cargo_type', 'handling_type', 'truck_count', 'highway', 'lcl_cargo', 'truck_type_cargo_match_first', 'truck_type_cargo_match_second', 'truck_type_cargo_match_third', 'truck_type_cargo_match_fourth', 'truck_type_driver_match_first', 'truck_len_match', 'regular_subscribe_match', 'regular_search_3_match', 'regular_search_7_match', 'regular_search_14_match', 'regular_search_30_match', 'line_match', 'line_30days_match', 'line_60days_match', 'scan_cargo_level_3', 'scan_cargo_level_7', 'scan_cargo_level_14', 'scan_cargo_level_30', 'scan_cargo_level_avg', 'click_cargo_level_3', 'click_cargo_level_7', 'click_cargo_level_14', 'click_cargo_level_30', 'click_cargo_level_avg', 'call_cargo_level_3', 'call_cargo_level_7', 'call_cargo_level_14', 'call_cargo_level_30', 'call_cargo_level_avg'], dtype='object')"
      ]
     },
     "execution_count": 4,
     "metadata": {},
     "output_type": "execute_result"
    }
   ],
   "source": [
    "X.keys()"
   ]
  },
  {
   "cell_type": "code",
   "execution_count": 6,
   "metadata": {},
   "outputs": [],
   "source": [
    "keylist = ['user_id', 'id','truck_count','scan_cargo_level_avg']\n",
    "# keylist = ['driver_user_id','cargo_id','cargo_freight_unit', 'cargo_type', 'cargo_handling_type', 'cargo_truck_count', 'cargo_highway', 'cargo_lcl_cargo','cargo_expect_freight', 'cargo_freight_per_mile', 'driver_freight_avg', 'driver_freight_avg_3', 'driver_freight_avg_7', 'driver_freight_avg_14','driver_scan_cargo_level_3', 'driver_scan_cargo_level_7', 'driver_scan_cargo_level_14', 'driver_scan_cargo_level_avg', 'driver_click_cargo_level_3', 'driver_click_cargo_level_7', 'driver_click_cargo_level_14', 'driver_click_cargo_level_avg', 'driver_call_cargo_level_3', 'driver_call_cargo_level_7', 'driver_call_cargo_level_14', 'driver_call_cargo_level_avg', 'shipper_gender', 'shipper_age', 'shipper_is_members', 'shipper_deal_cnt', 'shipper_complaint_cnt_all', 'shipper_click_cargo_cnt_3', 'shipper_click_cnt_3', 'shipper_click_cargo_cnt_7', 'shipper_click_cnt_7', 'shipper_click_cargo_cnt_14', 'shipper_click_cnt_14']\n",
    "for key in keylist:\n",
    "    mean = np.mean(X[key])\n",
    "    max = np.max(X[key])\n",
    "    min = np.min(X[key])\n",
    "    if (max > min):\n",
    "        X[key] = (X[key] - min) / (max - min)"
   ]
  },
  {
   "cell_type": "code",
   "execution_count": 13,
   "metadata": {},
   "outputs": [],
   "source": [
    "from keras.layers.advanced_activations import LeakyReLU\n",
    "from keras import regularizers\n",
    "def my_DNN(x):\n",
    "  \n",
    "    x = Dense(200, activation = \"linear\", name = \"dense1\",kernel_regularizer=regularizers.l2(0.01))(x)\n",
    "    x = BatchNormalization(axis=-1, name = \"BN1\")(x)\n",
    "    x = LeakyReLU(alpha=0.1, name = \"relu1\")(x)\n",
    "    x = Dropout(0.5, name = \"Dout1\")(x)\n",
    "    x = Dense(200,activation = \"linear\", name = \"dense2\",kernel_regularizer=regularizers.l2(0.01))(x)\n",
    "    x = BatchNormalization(axis=-1, name = \"BN2\")(x)\n",
    "    x = LeakyReLU(alpha=0.1,name = \"relu2\")(x)\n",
    "    x = Dropout(0.5, name = \"Dout2\")(x)\n",
    "    x = Dense(200, activation = \"linear\", name = \"dense3\",kernel_regularizer=regularizers.l2(0.01))(x)\n",
    "    x = BatchNormalization(axis=-1, name = \"BN3\")(x)\n",
    "    x = LeakyReLU(alpha=0.1,name = \"relu3\")(x)\n",
    "    x = Dropout(0.5, name = \"Dout3\")(x)\n",
    "    x = Dense(200, activation = \"linear\", name = \"dense4\",kernel_regularizer=regularizers.l2(0.01))(x)\n",
    "    x = BatchNormalization(axis=-1, name = \"BN4\")(x)\n",
    "    x = LeakyReLU(alpha=0.1,name = \"relu4\")(x)\n",
    "    x = Dense(200, activation = \"linear\", name = \"dense5\",kernel_regularizer=regularizers.l2(0.01))(x)\n",
    "    x = BatchNormalization(axis=-1, name = \"BN5\")(x)\n",
    "    x = LeakyReLU(alpha=0.1,name = \"relu5\")(x)\n",
    "    output = Dense(2, activation = \"sigmoid\", name = \"output\")(x)\n",
    "    return output\n",
    "def my_DNN2(x):\n",
    "    x = Dense(200, activation = \"relu\", name = \"relu1\")(x)\n",
    "    x = Dense(200, activation = \"relu\", name = \"relu2\")(x)\n",
    "    x = Dense(200, activation = \"relu\", name = \"relu3\")(x)\n",
    "    x = Dense(200, activation = \"relu\", name = \"relu4\")(x)\n",
    "    x = Dense(200, activation = \"relu\", name = \"relu5\")(x)\n",
    "    x = Dense(200, activation = \"relu\", name = \"relu6\")(x)\n",
    "    output = Dense(2, activation= \"sigmoid\", name = \"output\")(x)\n",
    "    return output"
   ]
  },
  {
   "cell_type": "code",
   "execution_count": 14,
   "metadata": {},
   "outputs": [],
   "source": [
    "import tensorflow as tf\n",
    "from keras import backend as K\n",
    "def weighted_RMSE(weights):\n",
    "    def loss(y_true, y_pred):\n",
    "\n",
    "#         y_pred /= K.sum(y_pred, axis=-1, keepdims=True)\n",
    "     \n",
    "#         y_pred = K.clip(y_pred, K.epsilon(), 1 - K.epsilon())\n",
    "        return (K.sqrt(K.mean(K.square((y_true - y_pred) * weights))))\n",
    "    return loss"
   ]
  },
  {
   "cell_type": "code",
   "execution_count": 15,
   "metadata": {},
   "outputs": [],
   "source": [
    "def root_mean_squared_error(y_true, y_pred):\n",
    "        return K.sqrt(K.mean(K.square(y_pred - y_true), axis=-1)) \n",
    "import tensorflow as tf"
   ]
  },
  {
   "cell_type": "code",
   "execution_count": 44,
   "metadata": {},
   "outputs": [],
   "source": [
    "y = train_df.label"
   ]
  },
  {
   "cell_type": "code",
   "execution_count": 43,
   "metadata": {},
   "outputs": [
    {
     "name": "stdout",
     "output_type": "stream",
     "text": [
      "yes\n"
     ]
    }
   ],
   "source": [
    "from keras import backend as K\n",
    "\n",
    "input = Input(shape = (X.shape[1],), name = \"input\")\n",
    "#output = my_DNN(input)\n",
    "output = my_DNN2(input)\n",
    "weights = K.constant([1.0, 1.0])\n",
    "\n",
    "if os.path.exists(MODEL_PATH + \"/my_DNN.h5\"):\n",
    "    model = load_model(MODEL_PATH + \"/my_DNN.h5\",custom_objects={'loss':  weighted_RMSE(weights)})\n",
    "    print(\"yes\")\n",
    "else:\n",
    "    model = Model(input, output)\n",
    "model =Model(input, output)\n",
    "optimizer = Adam(lr=0.001)\n",
    "\n",
    "model.compile(optimizer=optimizer, loss=weighted_RMSE(weights), metrics=['accuracy', \"categorical_crossentropy\"])\n",
    "tensorboard = TensorBoard(log_dir='tensorboard')\n",
    "ckpt = ModelCheckpoint(filepath='checkpoints/ckpt1.hdf5', monitor='val_loss', save_best_only=True)"
   ]
  },
  {
   "cell_type": "code",
   "execution_count": 45,
   "metadata": {},
   "outputs": [
    {
     "name": "stdout",
     "output_type": "stream",
     "text": [
      "1070491\n"
     ]
    }
   ],
   "source": [
    "from sklearn.model_selection import train_test_split\n",
    "X_train, X_test, y_train, y_test = train_test_split(X, y, test_size=0.1, shuffle = True)\n",
    "print(y_train.tolist().count(0))"
   ]
  },
  {
   "cell_type": "code",
   "execution_count": 46,
   "metadata": {},
   "outputs": [],
   "source": [
    "from imblearn.over_sampling import SMOTE\n",
    "num_0 = y_train.tolist().count(0)\n",
    "over_sample = SMOTE(ratio={0:num_0, 1:int(num_0*0.7)},random_state = 1234)\n",
    "over_sample_X, over_sample_Y = over_sample.fit_sample(X_train, y_train)"
   ]
  },
  {
   "cell_type": "code",
   "execution_count": 47,
   "metadata": {},
   "outputs": [
    {
     "name": "stdout",
     "output_type": "stream",
     "text": [
      "0    0.937214\n",
      "1    0.062786\n",
      "Name: label, dtype: float64\n",
      "0    0.588236\n",
      "1    0.411764\n",
      "dtype: float64\n"
     ]
    }
   ],
   "source": [
    "print(y_train.value_counts()/len(y_train))\n",
    "print(pd.Series(over_sample_Y).value_counts()/len(over_sample_Y))"
   ]
  },
  {
   "cell_type": "code",
   "execution_count": 48,
   "metadata": {},
   "outputs": [],
   "source": [
    "over_sample_Y= to_categorical(over_sample_Y,num_classes=2)\n",
    "y_test = to_categorical(y_test,num_classes = 2)"
   ]
  },
  {
   "cell_type": "code",
   "execution_count": 41,
   "metadata": {},
   "outputs": [],
   "source": [
    "# np.save(\"train_X.npy\", np.array(over_sample_X))\n",
    "# np.save(\"train_Y.npy\", np.array(over_sample_Y))\n",
    "# np.save(\"val_X.npy\", np.array(X_test))\n",
    "# np.save(\"val_Y.npy\", np.array(y_test))"
   ]
  },
  {
   "cell_type": "code",
   "execution_count": null,
   "metadata": {},
   "outputs": [
    {
     "name": "stdout",
     "output_type": "stream",
     "text": [
      "Train on 1819834 samples, validate on 126912 samples\n",
      "Epoch 1/7\n",
      " 174464/1819834 [=>............................] - ETA: 6:41 - loss: 0.4648 - acc: 0.6514 - categorical_crossentropy: 0.6234"
     ]
    }
   ],
   "source": [
    "model.fit(over_sample_X,over_sample_Y,batch_size=128,epochs=7,callbacks=[tensorboard, ckpt],validation_data=(X_test, y_test))\n",
    "model.save('model/my_DNN.h5')\n",
    "model.summary()"
   ]
  },
  {
   "cell_type": "code",
   "execution_count": null,
   "metadata": {},
   "outputs": [],
   "source": [
    "y_pred = np.argmax(model.predict(X_test), axis = 1)\n",
    "y_test = np.argmax(y_test, axis = 1)\n",
    "print(y_pred.shape)\n",
    "print(y_test.shape)\n",
    "print(y_pred.tolist().count(1))"
   ]
  },
  {
   "cell_type": "code",
   "execution_count": null,
   "metadata": {},
   "outputs": [],
   "source": [
    "import math\n",
    "\n",
    "def calc_score(y_test, y_pred):\n",
    "    assert(len(y_test) == len(y_pred))\n",
    "    error = 0\n",
    "    score_weight = {\n",
    "        0: 1,\n",
    "        1: 2,\n",
    "        2: 2.5\n",
    "    }\n",
    "    for y_t, y_p in zip(y_test, y_pred):\n",
    "        error += (y_t * score_weight[y_t] - y_p) ** 2\n",
    "    RMSE = math.sqrt(error / len(y_test))\n",
    "    print('RMSE: ', RMSE)\n",
    "    print('Score: ', 1 / (1 + RMSE))\n"
   ]
  },
  {
   "cell_type": "code",
   "execution_count": null,
   "metadata": {},
   "outputs": [],
   "source": [
    "calc_score(y_test, y_pred)"
   ]
  },
  {
   "cell_type": "code",
   "execution_count": null,
   "metadata": {},
   "outputs": [],
   "source": [
    "y1 = np.zeros((63456,))\n",
    "calc_score(y_test,y1)"
   ]
  },
  {
   "cell_type": "code",
   "execution_count": null,
   "metadata": {},
   "outputs": [],
   "source": []
  },
  {
   "cell_type": "code",
   "execution_count": null,
   "metadata": {},
   "outputs": [],
   "source": []
  }
 ],
 "metadata": {
  "kernelspec": {
   "display_name": "Python 3",
   "language": "python",
   "name": "python3"
  },
  "language_info": {
   "codemirror_mode": {
    "name": "ipython",
    "version": 3
   },
   "file_extension": ".py",
   "mimetype": "text/x-python",
   "name": "python",
   "nbconvert_exporter": "python",
   "pygments_lexer": "ipython3",
   "version": "3.6.6"
  }
 },
 "nbformat": 4,
 "nbformat_minor": 2
}
